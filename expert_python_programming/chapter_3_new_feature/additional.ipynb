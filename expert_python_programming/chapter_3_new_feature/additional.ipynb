{
 "cells": [
  {
   "cell_type": "markdown",
   "metadata": {},
   "source": [
    "#### pdb, python debugger\n",
    "\n",
    "##### Command\n",
    "\n",
    "- `next`, `n` : 다음 단계 실행  \n",
    "- `break`, `b` : 라인 번호를 지정해줄시 해당 라인에 중단점 추가\n",
    "- `where` : 호출 스택 출력, 현재 위치를 포함한 프로그램의 호출 스택 확인\n",
    "- `continue`, `cont`, `c` : 다음 중단점에 도달할 때까지 프로그램 진행\n",
    "- `return`, `r` : 현재 함수가 반환될 때까지 프로그램 진행\n",
    "- `quit`, `q` : 디버거를 종료 후 프로그램 종료\n",
    "\n",
    "\n",
    "`debugger.py`의 line 6에서와 같이 중단점 생성 가능\n",
    "\n",
    "#### 개발 모드\n",
    "\n",
    "두 가지 방법으로 개발 모드를 활성화할 수 있다.\n",
    "\n",
    "1. 파이썬 인터프리터의 `-X dev` 명령줄 옵션을 이용  \n",
    "    \n",
    "    `$ python -X dev my_application.py`\n",
    "\n",
    "2. `PYTHONDEVMODE` 환경변수를 이용\n",
    "\n",
    "    `PYTHONDEVMODE=1 my_application`\n",
    "\n",
    "개발 모드를 사용할 경우, 다음을 얻을 수 있음\n",
    "- 메모리 할당 훅 : 버퍼 언더플로/오버플로, 메모리 할당 API 위반, 안전하지 않은 GIL 사용  \n",
    "- 임포트 경고 : 모듈 임포트 시\n",
    "- 자원 경고 : 열린 파일이 닫히지 않은 경우와 같은 부적합 시  \n",
    "- 종료 경고 : deprecated된 경우에 대해서\n",
    "- 폴트 핸들러 활성화 : SIGSEGV, SIGFPE, SIGABRT, SIGBUS, SIGILL 시스템 호출을 받았을 때, 스택트레이스 출력  "
   ]
  },
  {
   "cell_type": "code",
   "execution_count": null,
   "metadata": {},
   "outputs": [],
   "source": [
    "# SEG FAULT를 발생시키는 예제 코드(python3.8)\n",
    "import sys\n",
    "\n",
    "sys.setrecursionlimit(1 << 30)\n",
    "\n",
    "def crasher():\n",
    "    return crasher()\n",
    "\n",
    "crasher()"
   ]
  }
 ],
 "metadata": {
  "kernelspec": {
   "display_name": "Python-Practice-sA6UimNQ",
   "language": "python",
   "name": "python3"
  },
  "language_info": {
   "codemirror_mode": {
    "name": "ipython",
    "version": 3
   },
   "file_extension": ".py",
   "mimetype": "text/x-python",
   "name": "python",
   "nbconvert_exporter": "python",
   "pygments_lexer": "ipython3",
   "version": "3.12.2"
  }
 },
 "nbformat": 4,
 "nbformat_minor": 2
}
