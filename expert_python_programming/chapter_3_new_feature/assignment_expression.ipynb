{
 "cells": [
  {
   "cell_type": "markdown",
   "metadata": {},
   "source": [
    "연산자 충돌을 방지하기 위해서 반드시 괄호 사용\n",
    "\n",
    "해당 방법이 존재함을 알고 적용 시 가독성이 높아지는 경우에만 사용할 것"
   ]
  },
  {
   "cell_type": "code",
   "execution_count": 1,
   "metadata": {},
   "outputs": [],
   "source": [
    "# 예제 코드\n",
    "first_name = \"John\"\n",
    "last_name = \"Doe\"\n",
    "height = 168\n",
    "weight = 70\n",
    "\n",
    "user = {\n",
    "    \"first_name\" : first_name,\n",
    "    \"last_name\" : last_name,\n",
    "    \"display_name\" : f\"{first_name} {last_name}\",\n",
    "    \"height\" : height,\n",
    "    \"weight\" : weight,\n",
    "    \"bmi\" : weight / (height / 100) ** 2\n",
    "}\n",
    "\n",
    "del first_name, last_name, height, weight"
   ]
  },
  {
   "cell_type": "code",
   "execution_count": 2,
   "metadata": {},
   "outputs": [
    {
     "name": "stdout",
     "output_type": "stream",
     "text": [
      "John\n",
      "Doe\n",
      "168\n",
      "70\n"
     ]
    }
   ],
   "source": [
    "\n",
    "# 위 코드를 다음과 같이 변경\n",
    "\n",
    "user = {\n",
    "    \"first_name\" : (first_name := \"John\"),\n",
    "    \"last_name\" : (last_name := \"Doe\"),\n",
    "    \"display_name\" : f\"{first_name} {last_name}\",\n",
    "    \"height\" : (height := 168),\n",
    "    \"weight\" : (weight := 70),\n",
    "    \"bmi\" : weight / (height / 100) ** 2\n",
    "}\n",
    "\n",
    "print(first_name)\n",
    "print(last_name)\n",
    "print(height)\n",
    "print(weight)"
   ]
  }
 ],
 "metadata": {
  "kernelspec": {
   "display_name": "Python-Practice-sA6UimNQ",
   "language": "python",
   "name": "python3"
  },
  "language_info": {
   "codemirror_mode": {
    "name": "ipython",
    "version": 3
   },
   "file_extension": ".py",
   "mimetype": "text/x-python",
   "name": "python",
   "nbconvert_exporter": "python",
   "pygments_lexer": "ipython3",
   "version": "3.12.2"
  }
 },
 "nbformat": 4,
 "nbformat_minor": 2
}
