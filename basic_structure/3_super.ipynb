{
 "cells": [
  {
   "cell_type": "code",
   "execution_count": 2,
   "metadata": {},
   "outputs": [
    {
     "name": "stdout",
     "output_type": "stream",
     "text": [
      "init Unit\n",
      "init Flyable\n"
     ]
    }
   ],
   "source": [
    "class Unit:\n",
    "    def __init__(self):\n",
    "        print(\"init Unit\")\n",
    "\n",
    "class Flyable:\n",
    "    def __init__(self):\n",
    "        print(\"init Flyable\")\n",
    "\n",
    "class FlyableUnit(Unit, Flyable):\n",
    "    def __init__(self):\n",
    "        super().__init__()\n",
    "\n",
    "dropship = FlyableUnit()\n",
    "\n",
    "# 순서 변경\n",
    "class FlyableUnit(Flyable, Unit):\n",
    "    def __init__(self):\n",
    "        super().__init__()\n",
    "\n",
    "dropship = FlyableUnit()"
   ]
  },
  {
   "cell_type": "code",
   "execution_count": 5,
   "metadata": {},
   "outputs": [
    {
     "name": "stdout",
     "output_type": "stream",
     "text": [
      "init Flyable\n",
      "init Unit\n"
     ]
    }
   ],
   "source": [
    "# 가장 먼저 상속 받은 부모클래스로 접근한다.\n",
    "# 모든 부모 클래스의 생성자를 호출하려면 다음과 같이 명시적으로 각 부모 클래스의 이름을 통해 접근해야 한다.\n",
    "class FlyableUnit(Flyable, Unit):\n",
    "    def __init__(self):\n",
    "        # super().__init__()\n",
    "        Flyable.__init__(self)\n",
    "        Unit.__init__(self)\n",
    "\n",
    "dropship = FlyableUnit()"
   ]
  },
  {
   "cell_type": "code",
   "execution_count": null,
   "metadata": {},
   "outputs": [],
   "source": [
    "class BuildingUnit(Unit):\n",
    "    def __init__(self, name, hp, location):\n",
    "        super().__init__(self, name, hp, 0)\n",
    "        self.location = location\n",
    "\n"
   ]
  }
 ],
 "metadata": {
  "kernelspec": {
   "display_name": "Python-Practice-sA6UimNQ",
   "language": "python",
   "name": "python3"
  },
  "language_info": {
   "codemirror_mode": {
    "name": "ipython",
    "version": 3
   },
   "file_extension": ".py",
   "mimetype": "text/x-python",
   "name": "python",
   "nbconvert_exporter": "python",
   "pygments_lexer": "ipython3",
   "version": "3.12.2"
  }
 },
 "nbformat": 4,
 "nbformat_minor": 2
}
