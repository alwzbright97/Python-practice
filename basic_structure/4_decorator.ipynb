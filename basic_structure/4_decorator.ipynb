{
 "cells": [
  {
   "cell_type": "markdown",
   "metadata": {},
   "source": [
    "## 퍼스트클래스 함수 (First Class Function)\n",
    "\n",
    "퍼스트클래스 함수란 프로그래밍 언어가 함수를 first-class citizen으로 취급하는 것을 뜻한다.  \n",
    "쉽게 설명하자면 함수 자체를 인자(argument)로써 다른 함수에 전달하거나 다른 함수의 결과값으로 리턴할 수도 있고, 함수를 변수에 할당하거나 데이터 구조 안에 저장할 수 있는 함수를 뜻한다.  "
   ]
  },
  {
   "cell_type": "code",
   "execution_count": 1,
   "metadata": {},
   "outputs": [
    {
     "name": "stdout",
     "output_type": "stream",
     "text": [
      "25\n",
      "<function square at 0x1077b4fe0>\n",
      "<function square at 0x1077b4fe0>\n"
     ]
    }
   ],
   "source": [
    "def square(x):\n",
    "    return x * x\n",
    "\n",
    "print(square(5))\n",
    "\n",
    "f = square\n",
    "\n",
    "print(square)\n",
    "print(f)"
   ]
  },
  {
   "cell_type": "code",
   "execution_count": 2,
   "metadata": {},
   "outputs": [
    {
     "name": "stdout",
     "output_type": "stream",
     "text": [
      "25\n"
     ]
    }
   ],
   "source": [
    "# argument 넣어 출력해보기\n",
    "print(f(5))"
   ]
  },
  {
   "cell_type": "code",
   "execution_count": 3,
   "metadata": {},
   "outputs": [
    {
     "name": "stdout",
     "output_type": "stream",
     "text": [
      "[1, 4, 9, 16, 25]\n"
     ]
    }
   ],
   "source": [
    "def my_map(func, arg_list):\n",
    "    result = []\n",
    "    for i in arg_list:\n",
    "        result.append(func(i))\n",
    "    return result\n",
    "\n",
    "num_list = [1, 2, 3, 4, 5]\n",
    "\n",
    "squares = my_map(square, num_list)\n",
    "\n",
    "print(squares)"
   ]
  },
  {
   "cell_type": "code",
   "execution_count": 4,
   "metadata": {},
   "outputs": [
    {
     "name": "stdout",
     "output_type": "stream",
     "text": [
      "[1, 8, 27, 64, 125]\n",
      "[1, 16, 81, 256, 625]\n"
     ]
    }
   ],
   "source": [
    "# 만약 square 뿐만 아니라, cube, quad 함수도 필요할 경우엔 어떻게 할까?\n",
    "\n",
    "def cube(x):\n",
    "    return x * x * x\n",
    "\n",
    "def quad(x):\n",
    "    return x * x * x * x\n",
    "\n",
    "# my_map을 wrapper 함수로 시용하여 기존 함수나 모듈 수정 없이 편리하게 사용할 수 있다.\n",
    "cubes = my_map(cube, num_list)\n",
    "quads = my_map(quad, num_list)\n",
    "\n",
    "print(cubes)\n",
    "print(quads)"
   ]
  },
  {
   "cell_type": "code",
   "execution_count": 5,
   "metadata": {},
   "outputs": [
    {
     "name": "stdout",
     "output_type": "stream",
     "text": [
      "<function logger.<locals>.log_message at 0x1077b5440>\n",
      "log:  Hi\n"
     ]
    }
   ],
   "source": [
    "# \"클로저, closure\"\n",
    "\n",
    "def logger(msg):\n",
    "    def log_message():\n",
    "        print(\"log: \", msg)\n",
    "    \n",
    "    return log_message\n",
    "\n",
    "log_hi = logger(\"Hi\")\n",
    "print(log_hi)\n",
    "log_hi()"
   ]
  },
  {
   "cell_type": "code",
   "execution_count": 6,
   "metadata": {},
   "outputs": [
    {
     "name": "stdout",
     "output_type": "stream",
     "text": [
      "NameError: logger는 존재하지 않습니다.\n",
      "log:  Hi\n"
     ]
    }
   ],
   "source": [
    "del logger\n",
    "\n",
    "try:\n",
    "    print(logger)\n",
    "\n",
    "except NameError:\n",
    "    print('NameError: logger는 존재하지 않습니다.')\n",
    "\n",
    "log_hi()\n",
    "\n",
    "# logger 함수가 지워진 뒤에서 해당 함수가 작동되는 것을 확인"
   ]
  },
  {
   "cell_type": "code",
   "execution_count": 7,
   "metadata": {},
   "outputs": [
    {
     "name": "stdout",
     "output_type": "stream",
     "text": [
      "<h1>심플 헤딩 타이틀<0>\n",
      "------------------------------\n",
      "<function html_tag.<locals>.wrap_text at 0x1077b53a0>\n",
      "<h1>첫 번째 헤딩 타이틀<0>\n",
      "<h1>두 번째 헤딩 타이틀<0>\n",
      "<p>이것은 페러그래프 입니다.<0>\n"
     ]
    }
   ],
   "source": [
    "\n",
    "def simple_html_tag(tag, msg):\n",
    "    print('<{0}>{1}<0>'.format(tag, msg))\n",
    "\n",
    "simple_html_tag('h1', '심플 헤딩 타이틀')\n",
    "\n",
    "print('-' * 30)\n",
    "\n",
    "def html_tag(tag):\n",
    "    def wrap_text(msg):\n",
    "        print('<{0}>{1}<0>'.format(tag, msg))\n",
    "\n",
    "    return wrap_text\n",
    "\n",
    "print_h1 = html_tag('h1')\n",
    "print(print_h1)\n",
    "\n",
    "print_h1('첫 번째 헤딩 타이틀')\n",
    "print_h1('두 번째 헤딩 타이틀')\n",
    "\n",
    "print_p = html_tag('p')\n",
    "print_p('이것은 페러그래프 입니다.')"
   ]
  }
 ],
 "metadata": {
  "kernelspec": {
   "display_name": "Python-Practice-sA6UimNQ",
   "language": "python",
   "name": "python3"
  },
  "language_info": {
   "codemirror_mode": {
    "name": "ipython",
    "version": 3
   },
   "file_extension": ".py",
   "mimetype": "text/x-python",
   "name": "python",
   "nbconvert_exporter": "python",
   "pygments_lexer": "ipython3",
   "version": "3.12.2"
  }
 },
 "nbformat": 4,
 "nbformat_minor": 2
}
