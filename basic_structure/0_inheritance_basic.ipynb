{
 "cells": [
  {
   "cell_type": "code",
   "execution_count": 1,
   "metadata": {},
   "outputs": [],
   "source": [
    "class Human:\n",
    "    \"\"\"Super Class\"\"\"\n",
    "    def __init__(self) -> None:\n",
    "        # instance properties\n",
    "        self.name = \"name\"\n",
    "        self.age = \"age\"\n",
    "        self.city = \"city\"\n",
    "    \n",
    "    def show(self):\n",
    "        print(\"Human method : show().\")\n",
    "    \n",
    "\n",
    "class Student(Human):\n",
    "    \"\"\"Child Class\"\"\"\n",
    "\n",
    "    def __init__(self, name) -> None:\n",
    "        self.name = name\n",
    "    \n",
    "    def show_name(self):\n",
    "        print(\"Name is : \", self.name)\n",
    "\n",
    "    def show_age(self):\n",
    "        print(\"Age is : \", self.age)"
   ]
  },
  {
   "cell_type": "code",
   "execution_count": 2,
   "metadata": {},
   "outputs": [
    {
     "name": "stdout",
     "output_type": "stream",
     "text": [
      "Human method : show().\n"
     ]
    },
    {
     "ename": "AttributeError",
     "evalue": "'Student' object has no attribute 'age'",
     "output_type": "error",
     "traceback": [
      "\u001b[0;31m---------------------------------------------------------------------------\u001b[0m",
      "\u001b[0;31mAttributeError\u001b[0m                            Traceback (most recent call last)",
      "Cell \u001b[0;32mIn[2], line 3\u001b[0m\n\u001b[1;32m      1\u001b[0m a \u001b[38;5;241m=\u001b[39m Student(\u001b[38;5;124m'\u001b[39m\u001b[38;5;124mjames\u001b[39m\u001b[38;5;124m'\u001b[39m)\n\u001b[1;32m      2\u001b[0m a\u001b[38;5;241m.\u001b[39mshow()\n\u001b[0;32m----> 3\u001b[0m \u001b[43ma\u001b[49m\u001b[38;5;241;43m.\u001b[39;49m\u001b[43mshow_age\u001b[49m\u001b[43m(\u001b[49m\u001b[43m)\u001b[49m\n\u001b[1;32m      4\u001b[0m a\u001b[38;5;241m.\u001b[39mshow_name()\n",
      "Cell \u001b[0;32mIn[1], line 23\u001b[0m, in \u001b[0;36mStudent.show_age\u001b[0;34m(self)\u001b[0m\n\u001b[1;32m     22\u001b[0m \u001b[38;5;28;01mdef\u001b[39;00m \u001b[38;5;21mshow_age\u001b[39m(\u001b[38;5;28mself\u001b[39m):\n\u001b[0;32m---> 23\u001b[0m     \u001b[38;5;28mprint\u001b[39m(\u001b[38;5;124m\"\u001b[39m\u001b[38;5;124mAge is : \u001b[39m\u001b[38;5;124m\"\u001b[39m, \u001b[38;5;28;43mself\u001b[39;49m\u001b[38;5;241;43m.\u001b[39;49m\u001b[43mage\u001b[49m)\n",
      "\u001b[0;31mAttributeError\u001b[0m: 'Student' object has no attribute 'age'"
     ]
    }
   ],
   "source": [
    "a = Student('james')\n",
    "a.show()\n",
    "a.show_age()\n",
    "a.show_name()"
   ]
  },
  {
   "cell_type": "code",
   "execution_count": 3,
   "metadata": {},
   "outputs": [],
   "source": [
    "# - 왜 이런 에러가 발생하는 가?  \n",
    "# --> 부모 클래스 객체가 생성될 때 실행되는 매직매서드(`__init__`)이 실행되지 않아서 상속받지 못한다."
   ]
  },
  {
   "cell_type": "code",
   "execution_count": 4,
   "metadata": {},
   "outputs": [],
   "source": [
    "# 재정의하자\n",
    "class Human:\n",
    "    \"\"\"Super Class\"\"\"\n",
    "    def __init__(self) -> None:\n",
    "        # instance properties\n",
    "        self.name = \"name\"\n",
    "        self.age = \"age\"\n",
    "        self.city = \"city\"\n",
    "    \n",
    "    def show(self):\n",
    "        print(\"Human method : show().\")\n",
    "    \n",
    "\n",
    "class Student(Human):\n",
    "    \"\"\"Child Class\"\"\"\n",
    "\n",
    "    def __init__(self, name) -> None:\n",
    "        super().__init__()\n",
    "        self.name = name\n",
    "    \n",
    "    def show_name(self):\n",
    "        print(\"Name is : \", self.name)\n",
    "\n",
    "    def show_age(self):\n",
    "        print(\"Age is : \", self.age)"
   ]
  },
  {
   "cell_type": "code",
   "execution_count": 5,
   "metadata": {},
   "outputs": [
    {
     "name": "stdout",
     "output_type": "stream",
     "text": [
      "Human method : show().\n",
      "Age is :  age\n",
      "Name is :  james\n"
     ]
    }
   ],
   "source": [
    "a = Student('james')\n",
    "a.show()\n",
    "a.show_age()\n",
    "a.show_name()"
   ]
  }
 ],
 "metadata": {
  "kernelspec": {
   "display_name": "Python-Practice-sA6UimNQ",
   "language": "python",
   "name": "python3"
  },
  "language_info": {
   "codemirror_mode": {
    "name": "ipython",
    "version": 3
   },
   "file_extension": ".py",
   "mimetype": "text/x-python",
   "name": "python",
   "nbconvert_exporter": "python",
   "pygments_lexer": "ipython3",
   "version": "3.12.2"
  }
 },
 "nbformat": 4,
 "nbformat_minor": 2
}
