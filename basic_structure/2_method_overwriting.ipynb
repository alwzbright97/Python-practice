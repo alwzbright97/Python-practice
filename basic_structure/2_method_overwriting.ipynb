{
 "cells": [
  {
   "cell_type": "code",
   "execution_count": 1,
   "metadata": {},
   "outputs": [],
   "source": [
    "class Unit:\n",
    "    def __init__(self, name, hp, speed) -> None:\n",
    "        self.name = name\n",
    "        self.hp = hp\n",
    "        self.speed = speed\n",
    "\n",
    "    def move(self, location):\n",
    "        print(\"[지상 유닛 이동]\")\n",
    "        print(\"{0} : {1} 방향으로 이동합니다. [속도 {2}]\"\\\n",
    "            .format(self.name, location, self.speed))\n",
    "\n",
    "class AttackUnit(Unit):\n",
    "    def __init__(self, name, hp, speed, damage):\n",
    "        Unit.__init__(self, name, hp, speed)\n",
    "        self.damage = damage\n",
    "\n",
    "    def attack(self, location):\n",
    "        print(\"{0} : {1} 방향으로 적군을 공격합니다. [공격력 {2}]\".format(self.name, location, self.damage))\n",
    "    \n",
    "    def damaged(self, damage):\n",
    "        print(\"{0} : {1} 데미지를 입었습니다.\".format(self.name, damage))\n",
    "        self.hp -= damage\n",
    "        print(\"{0} : 현재 체력은 {1} 입니다.\".format(self.name, self.hp))\n",
    "        if self.hp <= 0:\n",
    "            print(\"{0} : 파괴되었습니다.\".format(self.name))\n",
    "\n",
    "class Flyable:\n",
    "    def __init__(self, flying_speed):\n",
    "        self.flying_speed = flying_speed\n",
    "\n",
    "    def fly(self, name, location):\n",
    "        print(\"{0} : {1} 방향으로 날아갑니다. [속도 {2}]\".format(name, location, self.flying_speed))\n",
    "\n",
    "class FlyableAttackUnit(AttackUnit, Flyable):\n",
    "    def __init__(self, name, hp, damage, flying_speed):\n",
    "        AttackUnit.__init__(self, name, hp, None, damage)\n",
    "        Flyable.__init__(self, flying_speed)\n",
    "    \n",
    "    def move(self, location):\n",
    "        print(\"[공중 유닛 이동]\")\n",
    "        self.fly(self.name, location)"
   ]
  },
  {
   "cell_type": "code",
   "execution_count": 2,
   "metadata": {},
   "outputs": [
    {
     "name": "stdout",
     "output_type": "stream",
     "text": [
      "[지상 유닛 이동]\n",
      "벌쳐 : 11시 방향으로 이동합니다. [속도 10]\n",
      "[공중 유닛 이동]\n",
      "배틀크루저 : 9시 방향으로 날아갑니다. [속도 3]\n"
     ]
    }
   ],
   "source": [
    "# 벌쳐 : 지상 유닛, 기동성이 좋음\n",
    "vulture = AttackUnit(\"벌쳐\", 80, 10, 20) # 지상 speed 10\n",
    "\n",
    "# 배틀크루저 : 공중 유닛, 체력도 굉장히 좋음, 공격력도 좋음\n",
    "battlecruiser = FlyableAttackUnit(\"배틀크루저\", 500, 25, 3)\n",
    "\n",
    "vulture.move(\"11시\")\n",
    "# battlecruiser.fly(battlecruiser.name, \"9시\")\n",
    "battlecruiser.move(\"9시\") # 오버라이딩된 move() 호출"
   ]
  },
  {
   "cell_type": "code",
   "execution_count": null,
   "metadata": {},
   "outputs": [],
   "source": []
  }
 ],
 "metadata": {
  "kernelspec": {
   "display_name": "Python-Practice-sA6UimNQ",
   "language": "python",
   "name": "python3"
  },
  "language_info": {
   "codemirror_mode": {
    "name": "ipython",
    "version": 3
   },
   "file_extension": ".py",
   "mimetype": "text/x-python",
   "name": "python",
   "nbconvert_exporter": "python",
   "pygments_lexer": "ipython3",
   "version": "3.12.2"
  }
 },
 "nbformat": 4,
 "nbformat_minor": 2
}
