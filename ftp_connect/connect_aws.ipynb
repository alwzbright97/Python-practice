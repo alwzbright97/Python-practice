{
 "cells": [
  {
   "cell_type": "code",
   "execution_count": null,
   "metadata": {},
   "outputs": [],
   "source": [
    "import os\n",
    "import ftplib"
   ]
  },
  {
   "cell_type": "code",
   "execution_count": null,
   "metadata": {},
   "outputs": [],
   "source": [
    "# Configuration Parser\n",
    "import configparser\n",
    "\n",
    "properties = configparser.ConfigParser()\n",
    "properties.read(\"./config.ini\")\n",
    "\n",
    "config = properties[\"CONFIG\"]\n",
    "\n",
    "hostaddr = config[\"hostaddr\"]\n",
    "username = config[\"username\"]\n",
    "password = config[\"password\"]\n",
    "src_file_path = config[\"src_file_path\"]\n",
    "dst_file_path = config[\"dst_file_path\"]"
   ]
  },
  {
   "cell_type": "code",
   "execution_count": null,
   "metadata": {},
   "outputs": [],
   "source": [
    "# Getting Files list\n",
    "def list_ftp_files(hostaddr, username, password, src_file_path):\n",
    "    with ftplib.FTP(hostaddr) as ftp:\n",
    "        ftp.login(username, password)\n",
    "\n",
    "        files = ftp.nlst(src_file_path)\n",
    "\n",
    "        for file in files:\n",
    "            print(file)"
   ]
  },
  {
   "cell_type": "code",
   "execution_count": null,
   "metadata": {},
   "outputs": [],
   "source": [
    "list_ftp_files(\n",
    "    hostaddr,\n",
    "    username,\n",
    "    password,\n",
    "    src_file_path\n",
    ")"
   ]
  }
 ],
 "metadata": {
  "kernelspec": {
   "display_name": "Python-Practice-sA6UimNQ",
   "language": "python",
   "name": "python3"
  },
  "language_info": {
   "codemirror_mode": {
    "name": "ipython",
    "version": 3
   },
   "file_extension": ".py",
   "mimetype": "text/x-python",
   "name": "python",
   "nbconvert_exporter": "python",
   "pygments_lexer": "ipython3",
   "version": "3.12.2"
  }
 },
 "nbformat": 4,
 "nbformat_minor": 2
}
